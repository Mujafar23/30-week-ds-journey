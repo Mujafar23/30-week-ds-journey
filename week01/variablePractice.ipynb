{
 "cells": [
  {
   "cell_type": "code",
   "id": "initial_id",
   "metadata": {
    "collapsed": true,
    "ExecuteTime": {
     "end_time": "2025-08-05T15:25:57.434643Z",
     "start_time": "2025-08-05T15:25:57.425419Z"
    }
   },
   "source": "print(\"Hello World!\")",
   "outputs": [
    {
     "name": "stdout",
     "output_type": "stream",
     "text": [
      "Hello World!\n"
     ]
    }
   ],
   "execution_count": 2
  },
  {
   "metadata": {
    "ExecuteTime": {
     "end_time": "2025-08-05T15:25:57.641760Z",
     "start_time": "2025-08-05T15:25:57.633423Z"
    }
   },
   "cell_type": "code",
   "source": [
    "i = 10\n",
    "ic = 12\n",
    "print(i+ic)\n",
    "print(i-ic)"
   ],
   "id": "f0abddd93d237fae",
   "outputs": [
    {
     "name": "stdout",
     "output_type": "stream",
     "text": [
      "22\n",
      "-2\n"
     ]
    }
   ],
   "execution_count": 5
  },
  {
   "metadata": {
    "ExecuteTime": {
     "end_time": "2025-08-05T15:25:58.163054Z",
     "start_time": "2025-08-05T15:25:58.146882Z"
    }
   },
   "cell_type": "code",
   "source": [
    "name = \"Muzaffar\"\n",
    "age = 23\n",
    "height = 5.9\n",
    "is_student = True\n",
    "\n",
    "print(\"Name:\", name)\n",
    "print(\"Age:\", age)\n",
    "print(\"Height:\", height)\n",
    "print(\"Is Student:\", is_student)\n",
    "\n",
    "print(\"/n variable types\")\n",
    "print(\"type of name\",type(name))\n",
    "print(\"type of age\",type(age))\n",
    "print(\"type of height\",type(height))\n",
    "print(\"type of is_student\",type(is_student))\n",
    "\n",
    "x,y,z = 1,2,3\n",
    "print(x,y,z)\n",
    "\n",
    "# username = input(\"Enter your name: \")\n",
    "# userage = int(input(\"Enter your age: \"))\n",
    "# print(f\"name is:{username}and age is:{userage}\")\n",
    "\n",
    "a = 5\n",
    "b = 10\n",
    "print(\"\\nBefore Swap - a:\", a, \"b:\", b)\n",
    "a, b = b, a\n",
    "print(\"After Swap  - a:\", a, \"b:\", b)"
   ],
   "id": "53a606edb9d4fcc5",
   "outputs": [
    {
     "name": "stdout",
     "output_type": "stream",
     "text": [
      "Name: Muzaffar\n",
      "Age: 23\n",
      "Height: 5.9\n",
      "Is Student: True\n",
      "/n variable types\n",
      "type of name <class 'str'>\n",
      "type of age <class 'int'>\n",
      "type of height <class 'float'>\n",
      "type of is_student <class 'bool'>\n",
      "1 2 3\n",
      "\n",
      "Before Swap - a: 5 b: 10\n",
      "After Swap  - a: 10 b: 5\n"
     ]
    }
   ],
   "execution_count": 12
  }
 ],
 "metadata": {
  "kernelspec": {
   "display_name": "Python 3",
   "language": "python",
   "name": "python3"
  },
  "language_info": {
   "codemirror_mode": {
    "name": "ipython",
    "version": 2
   },
   "file_extension": ".py",
   "mimetype": "text/x-python",
   "name": "python",
   "nbconvert_exporter": "python",
   "pygments_lexer": "ipython2",
   "version": "2.7.6"
  }
 },
 "nbformat": 4,
 "nbformat_minor": 5
}
